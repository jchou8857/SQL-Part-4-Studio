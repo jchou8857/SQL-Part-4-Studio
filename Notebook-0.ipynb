{
    "metadata": {
        "kernelspec": {
            "name": "SQL",
            "display_name": "SQL",
            "language": "sql"
        },
        "language_info": {
            "name": "sql",
            "version": ""
        },
        "extensions": {
            "azuredatastudio": {
                "version": 1,
                "views": []
            }
        }
    },
    "nbformat_minor": 2,
    "nbformat": 4,
    "cells": [
        {
            "cell_type": "markdown",
            "source": [
                "# SQL Part 4 Studio\n",
                "\n",
                "For this studio, you will be working in small groups and using the BooksDB.  One group member should screen share while fellow group members code along in their own notebooks.  Each group member will submit a link to their studio notebook.\n",
                "\n",
                "You are back at the bookstore helping employees with their inventory of books.   Four employees need your help with finding books to create in-store displays.  Read their requests and decide if you want to use a correlated subquery, nested subquery, UNION operator, EXCEPT operator, or INTERSECT operator.  You may not use any joins or add multiple statements to the WHERE clause unless explicitly asked."
            ],
            "metadata": {
                "azdata_cell_guid": "3ea3f8a2-b444-4354-be8b-eebc139b3c13"
            },
            "attachments": {}
        },
        {
            "cell_type": "markdown",
            "source": [
                "## QUESTION 1:  Willow\n",
                "\n",
                "Willow wants a list of book titles that have multiple authors attributed to them.  Write a query to return her desired results."
            ],
            "metadata": {
                "azdata_cell_guid": "5c8b1c77-0878-4dc6-8e79-7f64e5e1df0d"
            },
            "attachments": {}
        },
        {
            "cell_type": "code",
            "source": [
                "-- Code here:\r\n",
                "SELECT TOP 10 b.title, b.authors\r\n",
                "FROM BooksDB.dbo.books as b\r\n",
                "WHERE b.authors LIKE '%, %'\r\n",
                "\r\n",
                "SELECT b.title, count(b.authors)\r\n",
                "FROM BooksDB.dbo.books as b \r\n",
                "GROUP BY b.title\r\n",
                "HAVING count(b.authors) >= 2"
            ],
            "metadata": {
                "azdata_cell_guid": "46c76d2f-acbc-4fd2-9c2a-367044fda616",
                "tags": [],
                "language": "sql"
            },
            "outputs": [
                {
                    "output_type": "display_data",
                    "data": {
                        "text/html": "(10 rows affected)"
                    },
                    "metadata": {}
                },
                {
                    "output_type": "display_data",
                    "data": {
                        "text/html": "(33 rows affected)"
                    },
                    "metadata": {}
                },
                {
                    "output_type": "display_data",
                    "data": {
                        "text/html": "Total execution time: 00:00:00.148"
                    },
                    "metadata": {}
                },
                {
                    "output_type": "execute_result",
                    "metadata": {},
                    "execution_count": 26,
                    "data": {
                        "application/vnd.dataresource+json": {
                            "schema": {
                                "fields": [
                                    {
                                        "name": "title"
                                    },
                                    {
                                        "name": "authors"
                                    }
                                ]
                            },
                            "data": [
                                {
                                    "0": "Harry Potter and the Sorcerer's Stone (Harry Potter, #1)",
                                    "1": "J.K. Rowling, Mary GrandPré"
                                },
                                {
                                    "0": "1984",
                                    "1": "George Orwell, Erich Fromm, Celâl Üster"
                                },
                                {
                                    "0": "The Diary of a Young Girl",
                                    "1": "Anne Frank, Eleanor Roosevelt, B.M. Mooyaart-Doubleday"
                                },
                                {
                                    "0": "The Girl with the Dragon Tattoo (Millennium, #1)",
                                    "1": "Stieg Larsson, Reg Keeland"
                                },
                                {
                                    "0": "Harry Potter and the Prisoner of Azkaban (Harry Potter, #3)",
                                    "1": "J.K. Rowling, Mary GrandPré, Rufus Beck"
                                },
                                {
                                    "0": "Harry Potter and the Order of the Phoenix (Harry Potter, #5)",
                                    "1": "J.K. Rowling, Mary GrandPré"
                                },
                                {
                                    "0": "Harry Potter and the Chamber of Secrets (Harry Potter, #2)",
                                    "1": "J.K. Rowling, Mary GrandPré"
                                },
                                {
                                    "0": "Harry Potter and the Goblet of Fire (Harry Potter, #4)",
                                    "1": "J.K. Rowling, Mary GrandPré"
                                },
                                {
                                    "0": "Harry Potter and the Deathly Hallows (Harry Potter, #7)",
                                    "1": "J.K. Rowling, Mary GrandPré"
                                },
                                {
                                    "0": "Harry Potter and the Half-Blood Prince (Harry Potter, #6)",
                                    "1": "J.K. Rowling, Mary GrandPré"
                                }
                            ]
                        },
                        "text/html": [
                            "<table>",
                            "<tr><th>title</th><th>authors</th></tr>",
                            "<tr><td>Harry Potter and the Sorcerer's Stone (Harry Potter, #1)</td><td>J.K. Rowling, Mary GrandPré</td></tr>",
                            "<tr><td>1984</td><td>George Orwell, Erich Fromm, Celâl Üster</td></tr>",
                            "<tr><td>The Diary of a Young Girl</td><td>Anne Frank, Eleanor Roosevelt, B.M. Mooyaart-Doubleday</td></tr>",
                            "<tr><td>The Girl with the Dragon Tattoo (Millennium, #1)</td><td>Stieg Larsson, Reg Keeland</td></tr>",
                            "<tr><td>Harry Potter and the Prisoner of Azkaban (Harry Potter, #3)</td><td>J.K. Rowling, Mary GrandPré, Rufus Beck</td></tr>",
                            "<tr><td>Harry Potter and the Order of the Phoenix (Harry Potter, #5)</td><td>J.K. Rowling, Mary GrandPré</td></tr>",
                            "<tr><td>Harry Potter and the Chamber of Secrets (Harry Potter, #2)</td><td>J.K. Rowling, Mary GrandPré</td></tr>",
                            "<tr><td>Harry Potter and the Goblet of Fire (Harry Potter, #4)</td><td>J.K. Rowling, Mary GrandPré</td></tr>",
                            "<tr><td>Harry Potter and the Deathly Hallows (Harry Potter, #7)</td><td>J.K. Rowling, Mary GrandPré</td></tr>",
                            "<tr><td>Harry Potter and the Half-Blood Prince (Harry Potter, #6)</td><td>J.K. Rowling, Mary GrandPré</td></tr>",
                            "</table>"
                        ]
                    }
                },
                {
                    "output_type": "execute_result",
                    "metadata": {},
                    "execution_count": 26,
                    "data": {
                        "application/vnd.dataresource+json": {
                            "schema": {
                                "fields": [
                                    {
                                        "name": "title"
                                    },
                                    {
                                        "name": "(No column name)"
                                    }
                                ]
                            },
                            "data": [
                                {
                                    "0": "Anatomy for the Artist",
                                    "1": "2"
                                },
                                {
                                    "0": "Arcadia",
                                    "1": "2"
                                },
                                {
                                    "0": "Are You My Mother?",
                                    "1": "2"
                                },
                                {
                                    "0": "Bambi",
                                    "1": "2"
                                },
                                {
                                    "0": "Between the Lines (Between the Lines, #1)",
                                    "1": "2"
                                },
                                {
                                    "0": "Invisible",
                                    "1": "2"
                                },
                                {
                                    "0": "Leviathan",
                                    "1": "2"
                                },
                                {
                                    "0": "Monster",
                                    "1": "2"
                                },
                                {
                                    "0": "One Flew Over the Cuckoo's Nest",
                                    "1": "2"
                                },
                                {
                                    "0": "Perfect",
                                    "1": "2"
                                },
                                {
                                    "0": "Pinocchio",
                                    "1": "2"
                                },
                                {
                                    "0": "Private (Private, #1)",
                                    "1": "2"
                                },
                                {
                                    "0": "'Salem's Lot",
                                    "1": "2"
                                },
                                {
                                    "0": "Selected Poems",
                                    "1": "4"
                                },
                                {
                                    "0": "Selected Stories",
                                    "1": "2"
                                },
                                {
                                    "0": "Sisters",
                                    "1": "2"
                                },
                                {
                                    "0": "Stone Soup",
                                    "1": "3"
                                },
                                {
                                    "0": "The Beach House",
                                    "1": "2"
                                },
                                {
                                    "0": "The Collected Poems",
                                    "1": "2"
                                },
                                {
                                    "0": "The Collector",
                                    "1": "2"
                                },
                                {
                                    "0": "The Complete Poems",
                                    "1": "2"
                                },
                                {
                                    "0": "The Complete Stories",
                                    "1": "2"
                                },
                                {
                                    "0": "The Complete Stories and Poems",
                                    "1": "2"
                                },
                                {
                                    "0": "The Gift",
                                    "1": "2"
                                },
                                {
                                    "0": "The Girls",
                                    "1": "2"
                                },
                                {
                                    "0": "The Island",
                                    "1": "2"
                                },
                                {
                                    "0": "The List",
                                    "1": "2"
                                },
                                {
                                    "0": "The Little Mermaid",
                                    "1": "2"
                                },
                                {
                                    "0": "The Pact",
                                    "1": "2"
                                },
                                {
                                    "0": "The Son",
                                    "1": "2"
                                },
                                {
                                    "0": "The Stranger",
                                    "1": "2"
                                },
                                {
                                    "0": "The Witness",
                                    "1": "2"
                                },
                                {
                                    "0": "Zodiac",
                                    "1": "2"
                                }
                            ]
                        },
                        "text/html": [
                            "<table>",
                            "<tr><th>title</th><th>(No column name)</th></tr>",
                            "<tr><td>Anatomy for the Artist</td><td>2</td></tr>",
                            "<tr><td>Arcadia</td><td>2</td></tr>",
                            "<tr><td>Are You My Mother?</td><td>2</td></tr>",
                            "<tr><td>Bambi</td><td>2</td></tr>",
                            "<tr><td>Between the Lines (Between the Lines, #1)</td><td>2</td></tr>",
                            "<tr><td>Invisible</td><td>2</td></tr>",
                            "<tr><td>Leviathan</td><td>2</td></tr>",
                            "<tr><td>Monster</td><td>2</td></tr>",
                            "<tr><td>One Flew Over the Cuckoo's Nest</td><td>2</td></tr>",
                            "<tr><td>Perfect</td><td>2</td></tr>",
                            "<tr><td>Pinocchio</td><td>2</td></tr>",
                            "<tr><td>Private (Private, #1)</td><td>2</td></tr>",
                            "<tr><td>'Salem's Lot</td><td>2</td></tr>",
                            "<tr><td>Selected Poems</td><td>4</td></tr>",
                            "<tr><td>Selected Stories</td><td>2</td></tr>",
                            "<tr><td>Sisters</td><td>2</td></tr>",
                            "<tr><td>Stone Soup</td><td>3</td></tr>",
                            "<tr><td>The Beach House</td><td>2</td></tr>",
                            "<tr><td>The Collected Poems</td><td>2</td></tr>",
                            "<tr><td>The Collector</td><td>2</td></tr>",
                            "<tr><td>The Complete Poems</td><td>2</td></tr>",
                            "<tr><td>The Complete Stories</td><td>2</td></tr>",
                            "<tr><td>The Complete Stories and Poems</td><td>2</td></tr>",
                            "<tr><td>The Gift</td><td>2</td></tr>",
                            "<tr><td>The Girls</td><td>2</td></tr>",
                            "<tr><td>The Island</td><td>2</td></tr>",
                            "<tr><td>The List</td><td>2</td></tr>",
                            "<tr><td>The Little Mermaid</td><td>2</td></tr>",
                            "<tr><td>The Pact</td><td>2</td></tr>",
                            "<tr><td>The Son</td><td>2</td></tr>",
                            "<tr><td>The Stranger</td><td>2</td></tr>",
                            "<tr><td>The Witness</td><td>2</td></tr>",
                            "<tr><td>Zodiac</td><td>2</td></tr>",
                            "</table>"
                        ]
                    }
                }
            ],
            "execution_count": 26
        },
        {
            "cell_type": "markdown",
            "source": [
                "## QUESTION 2: Ira\n",
                "\n",
                "Ira was asked by a customer for titles that have been tagged \"Meditation\".  As you create a query for Ira, think about how the tables in BooksDB are organized as you write your query."
            ],
            "metadata": {
                "azdata_cell_guid": "06f2a08a-a54e-484e-8053-c74594da9db2"
            },
            "attachments": {}
        },
        {
            "cell_type": "code",
            "source": [
                "-- Code here:\r\n",
                "SELECT b.title\r\n",
                "FROM BooksDB.dbo.books as b\r\n",
                "WHERE b.best_book_id IN\r\n",
                "    (SELECT bt.goodreads_book_id\r\n",
                "    FROM BooksDB.dbo.book_tags as bt\r\n",
                "    WHERE bt.tag_id IN\r\n",
                "        (SELECT t.tag_id\r\n",
                "        FROM BooksDB.dbo.tags as t\r\n",
                "        WHERE t.tag_name = 'Meditation'))"
            ],
            "metadata": {
                "azdata_cell_guid": "552924f9-a1cc-4979-8f53-15ba959550c2",
                "tags": [],
                "language": "sql"
            },
            "outputs": [
                {
                    "output_type": "display_data",
                    "data": {
                        "text/html": "(39 rows affected)"
                    },
                    "metadata": {}
                },
                {
                    "output_type": "display_data",
                    "data": {
                        "text/html": "Total execution time: 00:00:00.211"
                    },
                    "metadata": {}
                },
                {
                    "output_type": "execute_result",
                    "execution_count": 5,
                    "data": {
                        "application/vnd.dataresource+json": {
                            "schema": {
                                "fields": [
                                    {
                                        "name": "title"
                                    }
                                ]
                            },
                            "data": [
                                {
                                    "0": "A New Earth: Awakening to Your Life's Purpose"
                                },
                                {
                                    "0": "The Power of Now: A Guide to Spiritual Enlightenment"
                                },
                                {
                                    "0": "The Four Agreements: A Practical Guide to Personal Freedom"
                                },
                                {
                                    "0": "The Art of Happiness"
                                },
                                {
                                    "0": "Meditations"
                                },
                                {
                                    "0": "Way of the Peaceful Warrior: A Book That Changes Lives"
                                },
                                {
                                    "0": "Practicing the Power of Now: Essential Teachings, Meditations, and Exercises from the Power of Now"
                                },
                                {
                                    "0": "Autobiography of a Yogi"
                                },
                                {
                                    "0": "10% Happier: How I Tamed the Voice in My Head, Reduced Stress Without Losing My Edge, and Found Self-Help That Actually Works"
                                },
                                {
                                    "0": "The Seat of the Soul"
                                },
                                {
                                    "0": "The Teachings of Don Juan: A Yaqui Way of Knowledge "
                                },
                                {
                                    "0": "The Essential Rumi"
                                },
                                {
                                    "0": "Zen Mind, Beginner's Mind: Informal Talks on Zen Meditation and Practice"
                                },
                                {
                                    "0": "A Course in Miracles"
                                },
                                {
                                    "0": "The Power of Intention: Learning to Co-create Your World Your Way"
                                },
                                {
                                    "0": "The Practice of the Presence of God"
                                },
                                {
                                    "0": "Wherever You Go, There You Are: Mindfulness Meditation in Everyday Life"
                                },
                                {
                                    "0": "When Things Fall Apart: Heart Advice for Difficult Times"
                                },
                                {
                                    "0": "Be Here Now"
                                },
                                {
                                    "0": "Peace Is Every Step: The Path of Mindfulness in Everyday Life"
                                },
                                {
                                    "0": "Creative Visualization: Use the Power of Your Imagination to Create What You Want in Your Life"
                                },
                                {
                                    "0": "The Tibetan Book of Living and Dying"
                                },
                                {
                                    "0": "Zen of Seeing: Seeing/Drawing as Meditation"
                                },
                                {
                                    "0": "The Untethered Soul: The Journey Beyond Yourself"
                                },
                                {
                                    "0": "Waking Up: A Guide to Spirituality Without Religion"
                                },
                                {
                                    "0": "The I Ching or Book of Changes"
                                },
                                {
                                    "0": "The Happiness Hypothesis: Finding Modern Truth in Ancient Wisdom"
                                },
                                {
                                    "0": "Loving What Is: Four Questions That Can Change Your Life"
                                },
                                {
                                    "0": "The Imitation of Christ"
                                },
                                {
                                    "0": "The Miracle of Mindfulness: An Introduction to the Practice of Meditation"
                                },
                                {
                                    "0": "Care of the Soul: A Guide for Cultivating Depth and Sacredness in Everyday Life"
                                },
                                {
                                    "0": "Change Your Thoughts - Change Your Life: Living the Wisdom of the Tao"
                                },
                                {
                                    "0": "The Way of Zen"
                                },
                                {
                                    "0": "Living Buddha, Living Christ"
                                },
                                {
                                    "0": "Awakening the Buddha Within: Tibetan Wisdom for the Western World"
                                },
                                {
                                    "0": "The Book on the Taboo Against Knowing Who You Are"
                                },
                                {
                                    "0": "The Tenth Insight: Holding the Vision (Celestine Prophecy, #2)"
                                },
                                {
                                    "0": "Thrive: The Third Metric to Redefining Success and Creating a Life of Well-Being, Wisdom, and Wonder"
                                },
                                {
                                    "0": "The Places That Scare You: A Guide to Fearlessness in Difficult Times"
                                }
                            ]
                        },
                        "text/html": "<table><tr><th>title</th></tr><tr><td>A New Earth: Awakening to Your Life's Purpose</td></tr><tr><td>The Power of Now: A Guide to Spiritual Enlightenment</td></tr><tr><td>The Four Agreements: A Practical Guide to Personal Freedom</td></tr><tr><td>The Art of Happiness</td></tr><tr><td>Meditations</td></tr><tr><td>Way of the Peaceful Warrior: A Book That Changes Lives</td></tr><tr><td>Practicing the Power of Now: Essential Teachings, Meditations, and Exercises from the Power of Now</td></tr><tr><td>Autobiography of a Yogi</td></tr><tr><td>10% Happier: How I Tamed the Voice in My Head, Reduced Stress Without Losing My Edge, and Found Self-Help That Actually Works</td></tr><tr><td>The Seat of the Soul</td></tr><tr><td>The Teachings of Don Juan: A Yaqui Way of Knowledge </td></tr><tr><td>The Essential Rumi</td></tr><tr><td>Zen Mind, Beginner's Mind: Informal Talks on Zen Meditation and Practice</td></tr><tr><td>A Course in Miracles</td></tr><tr><td>The Power of Intention: Learning to Co-create Your World Your Way</td></tr><tr><td>The Practice of the Presence of God</td></tr><tr><td>Wherever You Go, There You Are: Mindfulness Meditation in Everyday Life</td></tr><tr><td>When Things Fall Apart: Heart Advice for Difficult Times</td></tr><tr><td>Be Here Now</td></tr><tr><td>Peace Is Every Step: The Path of Mindfulness in Everyday Life</td></tr><tr><td>Creative Visualization: Use the Power of Your Imagination to Create What You Want in Your Life</td></tr><tr><td>The Tibetan Book of Living and Dying</td></tr><tr><td>Zen of Seeing: Seeing/Drawing as Meditation</td></tr><tr><td>The Untethered Soul: The Journey Beyond Yourself</td></tr><tr><td>Waking Up: A Guide to Spirituality Without Religion</td></tr><tr><td>The I Ching or Book of Changes</td></tr><tr><td>The Happiness Hypothesis: Finding Modern Truth in Ancient Wisdom</td></tr><tr><td>Loving What Is: Four Questions That Can Change Your Life</td></tr><tr><td>The Imitation of Christ</td></tr><tr><td>The Miracle of Mindfulness: An Introduction to the Practice of Meditation</td></tr><tr><td>Care of the Soul: A Guide for Cultivating Depth and Sacredness in Everyday Life</td></tr><tr><td>Change Your Thoughts - Change Your Life: Living the Wisdom of the Tao</td></tr><tr><td>The Way of Zen</td></tr><tr><td>Living Buddha, Living Christ</td></tr><tr><td>Awakening the Buddha Within: Tibetan Wisdom for the Western World</td></tr><tr><td>The Book on the Taboo Against Knowing Who You Are</td></tr><tr><td>The Tenth Insight: Holding the Vision (Celestine Prophecy, #2)</td></tr><tr><td>Thrive: The Third Metric to Redefining Success and Creating a Life of Well-Being, Wisdom, and Wonder</td></tr><tr><td>The Places That Scare You: A Guide to Fearlessness in Difficult Times</td></tr></table>"
                    },
                    "metadata": {}
                }
            ],
            "execution_count": 5
        },
        {
            "cell_type": "markdown",
            "source": [
                "## QUESTION 3:  Alyce\n",
                "\n",
                "Alyce wants to create a display of books with an average rating of 4.2 or higher, but she only wants books that share both title and original title.  Write a query that displays both the original title and title for Alyce, in descending order by rating.  Make sure that none of the original titles contain NULL values either."
            ],
            "metadata": {
                "azdata_cell_guid": "1d758d74-b4f0-4836-bdfe-d7280b5b4592"
            },
            "attachments": {}
        },
        {
            "cell_type": "code",
            "source": [
                "-- Code here:\r\n",
                "SELECT TOP 10 b2.original_title, b2.title, b2.average_rating\r\n",
                "FROM\r\n",
                "    (SELECT *\r\n",
                "    FROM\r\n",
                "        (SELECT *\r\n",
                "        FROM BooksDB.dbo.books as b0\r\n",
                "        WHERE b0.average_rating >= 4.2) as b1\r\n",
                "    WHERE b1.original_title IS NOT NULL) as b2\r\n",
                "WHERE \r\n",
                "    b2.original_title = b2.title\r\n",
                "ORDER BY b2.average_rating DESC\r\n",
                ""
            ],
            "metadata": {
                "azdata_cell_guid": "2c693b4e-6987-4c49-ba55-61094e677608",
                "tags": [],
                "language": "sql"
            },
            "outputs": [
                {
                    "output_type": "display_data",
                    "data": {
                        "text/html": "(10 rows affected)"
                    },
                    "metadata": {}
                },
                {
                    "output_type": "display_data",
                    "data": {
                        "text/html": "Total execution time: 00:00:00.097"
                    },
                    "metadata": {}
                },
                {
                    "output_type": "execute_result",
                    "metadata": {},
                    "execution_count": 8,
                    "data": {
                        "application/vnd.dataresource+json": {
                            "schema": {
                                "fields": [
                                    {
                                        "name": "original_title"
                                    },
                                    {
                                        "name": "title"
                                    },
                                    {
                                        "name": "average_rating"
                                    }
                                ]
                            },
                            "data": [
                                {
                                    "0": "The Complete Calvin and Hobbes",
                                    "1": "The Complete Calvin and Hobbes",
                                    "2": "4.82"
                                },
                                {
                                    "0": "Mark of the Lion Trilogy",
                                    "1": "Mark of the Lion Trilogy",
                                    "2": "4.76"
                                },
                                {
                                    "0": "It's a Magical World: A Calvin and Hobbes Collection",
                                    "1": "It's a Magical World: A Calvin and Hobbes Collection",
                                    "2": "4.75"
                                },
                                {
                                    "0": "There's Treasure Everywhere: A Calvin and Hobbes Collection",
                                    "1": "There's Treasure Everywhere: A Calvin and Hobbes Collection",
                                    "2": "4.74"
                                },
                                {
                                    "0": "Harry Potter Collection (Harry Potter, #1-6)",
                                    "1": "Harry Potter Collection (Harry Potter, #1-6)",
                                    "2": "4.73"
                                },
                                {
                                    "0": "Homicidal Psycho Jungle Cat: A Calvin and Hobbes Collection",
                                    "1": "Homicidal Psycho Jungle Cat: A Calvin and Hobbes Collection",
                                    "2": "4.71"
                                },
                                {
                                    "0": "The Days Are Just Packed: A Calvin and Hobbes Collection",
                                    "1": "The Days Are Just Packed: A Calvin and Hobbes Collection",
                                    "2": "4.68"
                                },
                                {
                                    "0": "The Calvin and Hobbes Lazy Sunday Book",
                                    "1": "The Calvin and Hobbes Lazy Sunday Book",
                                    "2": "4.66"
                                },
                                {
                                    "0": "The Essential Calvin and Hobbes: A Calvin and Hobbes Treasury",
                                    "1": "The Essential Calvin and Hobbes: A Calvin and Hobbes Treasury",
                                    "2": "4.65"
                                },
                                {
                                    "0": "The Absolute Sandman, Volume One",
                                    "1": "The Absolute Sandman, Volume One",
                                    "2": "4.65"
                                }
                            ]
                        },
                        "text/html": [
                            "<table>",
                            "<tr><th>original_title</th><th>title</th><th>average_rating</th></tr>",
                            "<tr><td>The Complete Calvin and Hobbes</td><td>The Complete Calvin and Hobbes</td><td>4.82</td></tr>",
                            "<tr><td>Mark of the Lion Trilogy</td><td>Mark of the Lion Trilogy</td><td>4.76</td></tr>",
                            "<tr><td>It's a Magical World: A Calvin and Hobbes Collection</td><td>It's a Magical World: A Calvin and Hobbes Collection</td><td>4.75</td></tr>",
                            "<tr><td>There's Treasure Everywhere: A Calvin and Hobbes Collection</td><td>There's Treasure Everywhere: A Calvin and Hobbes Collection</td><td>4.74</td></tr>",
                            "<tr><td>Harry Potter Collection (Harry Potter, #1-6)</td><td>Harry Potter Collection (Harry Potter, #1-6)</td><td>4.73</td></tr>",
                            "<tr><td>Homicidal Psycho Jungle Cat: A Calvin and Hobbes Collection</td><td>Homicidal Psycho Jungle Cat: A Calvin and Hobbes Collection</td><td>4.71</td></tr>",
                            "<tr><td>The Days Are Just Packed: A Calvin and Hobbes Collection</td><td>The Days Are Just Packed: A Calvin and Hobbes Collection</td><td>4.68</td></tr>",
                            "<tr><td>The Calvin and Hobbes Lazy Sunday Book</td><td>The Calvin and Hobbes Lazy Sunday Book</td><td>4.66</td></tr>",
                            "<tr><td>The Essential Calvin and Hobbes: A Calvin and Hobbes Treasury</td><td>The Essential Calvin and Hobbes: A Calvin and Hobbes Treasury</td><td>4.65</td></tr>",
                            "<tr><td>The Absolute Sandman, Volume One</td><td>The Absolute Sandman, Volume One</td><td>4.65</td></tr>",
                            "</table>"
                        ]
                    }
                }
            ],
            "execution_count": 8
        },
        {
            "cell_type": "markdown",
            "source": [
                "## QUESTION 4:  Thisbe\n",
                "\n",
                "Thisbe is planning to make a long-term display of popular books that she will update monthly, reflecting different time periods.  She wants to make it reader-centric by including titles that readers have averagely rated higher than the book's actual average rating. \n",
                "\n",
                "**Part A:**   Write a query that compares the publication time with average reader ratings.\n",
                "\n",
                "**Part B:**  She wants the list ordered by year, then the book title"
            ],
            "metadata": {
                "azdata_cell_guid": "c3cb4fa8-802c-4130-8740-2adf20ec6a15"
            },
            "attachments": {}
        },
        {
            "cell_type": "code",
            "source": [
                "-- Code here:\r\n",
                "SELECT b.original_publication_year, b.title\r\n",
                "FROM BooksDB.dbo.books as b\r\n",
                "WHERE b.average_rating <\r\n",
                "    (SELECT avg(r.rating)\r\n",
                "    FROM BooksDB.dbo.ratings as r\r\n",
                "    WHERE r.book_id = b.book_id\r\n",
                "    GROUP BY r.book_id)\r\n",
                "ORDER BY b.original_publication_year, b.title"
            ],
            "metadata": {
                "azdata_cell_guid": "164e0a22-349f-45ed-afe8-0753d5a8c6fc",
                "tags": [],
                "language": "sql"
            },
            "outputs": [
                {
                    "output_type": "display_data",
                    "data": {
                        "text/html": "(178 rows affected)"
                    },
                    "metadata": {}
                },
                {
                    "output_type": "display_data",
                    "data": {
                        "text/html": "Total execution time: 00:00:00.239"
                    },
                    "metadata": {}
                },
                {
                    "output_type": "execute_result",
                    "metadata": {},
                    "execution_count": 21,
                    "data": {
                        "application/vnd.dataresource+json": {
                            "schema": {
                                "fields": [
                                    {
                                        "name": "original_publication_year"
                                    },
                                    {
                                        "name": "title"
                                    }
                                ]
                            },
                            "data": [
                                {
                                    "0": "-750",
                                    "1": "The Iliad"
                                },
                                {
                                    "0": "-458",
                                    "1": "The Oresteia  (Ορέστεια, #1-3)"
                                },
                                {
                                    "0": "-441",
                                    "1": "Antigone (The Theban Plays, #3)"
                                },
                                {
                                    "0": "-430",
                                    "1": "Oedipus Rex  (The Theban Plays, #1)"
                                },
                                {
                                    "0": "-411",
                                    "1": "Lysistrata"
                                },
                                {
                                    "0": "1390",
                                    "1": "The Canterbury Tales"
                                },
                                {
                                    "0": "1605",
                                    "1": "Don Quixote"
                                },
                                {
                                    "0": "1606",
                                    "1": "Macbeth"
                                },
                                {
                                    "0": "1726",
                                    "1": "Gulliver's Travels"
                                },
                                {
                                    "0": "1847",
                                    "1": "Wuthering Heights"
                                },
                                {
                                    "0": "1848",
                                    "1": "La Dame aux Camélias"
                                },
                                {
                                    "0": "1854",
                                    "1": "Hard Times"
                                },
                                {
                                    "0": "1856",
                                    "1": "Madame Bovary"
                                },
                                {
                                    "0": "1860",
                                    "1": "Great Expectations"
                                },
                                {
                                    "0": "1880",
                                    "1": "Heidi"
                                },
                                {
                                    "0": "1882",
                                    "1": "Treasure Island"
                                },
                                {
                                    "0": "1884",
                                    "1": "The Adventures of Huckleberry Finn"
                                },
                                {
                                    "0": "1889",
                                    "1": "Three Men in a Boat (Three Men, #1)"
                                },
                                {
                                    "0": "1895",
                                    "1": "The Time Machine"
                                },
                                {
                                    "0": "1897",
                                    "1": "The War of the Worlds"
                                },
                                {
                                    "0": "1908",
                                    "1": "The Wind in the Willows"
                                },
                                {
                                    "0": "1912",
                                    "1": "Pygmalion"
                                },
                                {
                                    "0": "1912",
                                    "1": "The Broken Wings"
                                },
                                {
                                    "0": "1920",
                                    "1": "Women in Love (Brangwen Family, #2)"
                                },
                                {
                                    "0": "1922",
                                    "1": "The Beautiful and Damned"
                                },
                                {
                                    "0": "1932",
                                    "1": "Brave New World"
                                },
                                {
                                    "0": "1933",
                                    "1": "Lost Horizon"
                                },
                                {
                                    "0": "1933",
                                    "1": "The Red Pony"
                                },
                                {
                                    "0": "1934",
                                    "1": "Burmese Days"
                                },
                                {
                                    "0": "1937",
                                    "1": "Of Mice and Men"
                                },
                                {
                                    "0": "1938",
                                    "1": "Tropic of Capricorn"
                                },
                                {
                                    "0": "1940",
                                    "1": "The Power and the Glory"
                                },
                                {
                                    "0": "1945",
                                    "1": "Animal Farm"
                                },
                                {
                                    "0": "1948",
                                    "1": "The Heart of the Matter"
                                },
                                {
                                    "0": "1952",
                                    "1": "Player Piano"
                                },
                                {
                                    "0": "1953",
                                    "1": "Fahrenheit 451"
                                },
                                {
                                    "0": "1953",
                                    "1": "The First Four Years  (Little House, #9)"
                                },
                                {
                                    "0": "1955",
                                    "1": "The Quiet American"
                                },
                                {
                                    "0": "1957",
                                    "1": "Atlas Shrugged"
                                },
                                {
                                    "0": "1958",
                                    "1": "Brave New World Revisited "
                                },
                                {
                                    "0": "1959",
                                    "1": "Goldfinger (James Bond, #7)"
                                },
                                {
                                    "0": "1961",
                                    "1": "A House for Mr Biswas"
                                },
                                {
                                    "0": "1961",
                                    "1": "Franny and Zooey"
                                },
                                {
                                    "0": "1961",
                                    "1": "James and the Giant Peach"
                                },
                                {
                                    "0": "1961",
                                    "1": "The Virtue of Selfishness: A New Concept of Egoism"
                                },
                                {
                                    "0": "1961",
                                    "1": "The Winter of Our Discontent"
                                },
                                {
                                    "0": "1962",
                                    "1": "The Woman in the Dunes"
                                },
                                {
                                    "0": "1963",
                                    "1": "The Bell Jar"
                                },
                                {
                                    "0": "1966",
                                    "1": "The Crying of Lot 49"
                                },
                                {
                                    "0": "1971",
                                    "1": "Another Roadside Attraction"
                                },
                                {
                                    "0": "1972",
                                    "1": "The Terminal Man"
                                },
                                {
                                    "0": "1974",
                                    "1": "The 158-Pound Marriage"
                                },
                                {
                                    "0": "1975",
                                    "1": "A History of God: The 4,000-Year Quest of Judaism, Christianity, and Islam"
                                },
                                {
                                    "0": "1976",
                                    "1": "Children of Dune (Dune Chronicles #3)"
                                },
                                {
                                    "0": "1980",
                                    "1": "Congo"
                                },
                                {
                                    "0": "1982",
                                    "1": "Deadeye Dick"
                                },
                                {
                                    "0": "1983",
                                    "1": "Life and Times of Michael K"
                                },
                                {
                                    "0": "1984",
                                    "1": "Heretics of Dune (Dune Chronicles #5)"
                                },
                                {
                                    "0": "1985",
                                    "1": "City of Glass (The New York Trilogy, #1)"
                                },
                                {
                                    "0": "1985",
                                    "1": "Love in the Time of Cholera"
                                },
                                {
                                    "0": "1986",
                                    "1": "Hatchet (Brian's Saga, #1)"
                                },
                                {
                                    "0": "1987",
                                    "1": "Beloved"
                                },
                                {
                                    "0": "1987",
                                    "1": "Dirk Gently's Holistic Detective Agency (Dirk Gently #1)"
                                },
                                {
                                    "0": "1987",
                                    "1": "In the Skin of a Lion"
                                },
                                {
                                    "0": "1987",
                                    "1": "The Pilgrimage"
                                },
                                {
                                    "0": "1987",
                                    "1": "The Rules of Attraction"
                                },
                                {
                                    "0": "1988",
                                    "1": "The Book of Ruth"
                                },
                                {
                                    "0": "1988",
                                    "1": "The Valkyries"
                                },
                                {
                                    "0": "1989",
                                    "1": "What to Expect the First Year (What to Expect)"
                                },
                                {
                                    "0": "1990",
                                    "1": "Hocus Pocus"
                                },
                                {
                                    "0": "1990",
                                    "1": "Jurassic Park (Jurassic Park, #1)"
                                },
                                {
                                    "0": "1990",
                                    "1": "The Mother Tongue: English and How It Got That Way"
                                },
                                {
                                    "0": "1991",
                                    "1": "Generation X: Tales for an Accelerated Culture"
                                },
                                {
                                    "0": "1991",
                                    "1": "Jewel"
                                },
                                {
                                    "0": "1991",
                                    "1": "Mariel of Redwall (Redwall, #4)"
                                },
                                {
                                    "0": "1991",
                                    "1": "Neither Here nor There: Travels in Europe"
                                },
                                {
                                    "0": "1991",
                                    "1": "Night Over Water"
                                },
                                {
                                    "0": "1991",
                                    "1": "Xenocide (Ender's Saga, #3)"
                                },
                                {
                                    "0": "1992",
                                    "1": "A Map of the World"
                                },
                                {
                                    "0": "1992",
                                    "1": "Leviathan"
                                },
                                {
                                    "0": "1992",
                                    "1": "Little Altars Everywhere"
                                },
                                {
                                    "0": "1992",
                                    "1": "Prophet"
                                },
                                {
                                    "0": "1993",
                                    "1": "Deerskin"
                                },
                                {
                                    "0": "1993",
                                    "1": "The Client"
                                },
                                {
                                    "0": "1994",
                                    "1": "A Son of the Circus"
                                },
                                {
                                    "0": "1994",
                                    "1": "Built to Last: Successful Habits of Visionary Companies"
                                },
                                {
                                    "0": "1994",
                                    "1": "In the Lake of the Woods"
                                },
                                {
                                    "0": "1994",
                                    "1": "The Bellmaker (Redwall, #7)"
                                },
                                {
                                    "0": "1995",
                                    "1": "Longitude: The True Story of a Lone Genius Who Solved the Greatest Scientific Problem of His Time"
                                },
                                {
                                    "0": "1995",
                                    "1": "Reservation Blues"
                                },
                                {
                                    "0": "1995",
                                    "1": "Songs in Ordinary Time"
                                },
                                {
                                    "0": "1995",
                                    "1": "The Lost World (Jurassic Park, #2)"
                                },
                                {
                                    "0": "1995",
                                    "1": "The Moor's Last Sigh"
                                },
                                {
                                    "0": "1995",
                                    "1": "The Rapture of Canaan"
                                },
                                {
                                    "0": "1996",
                                    "1": "Cause of Death (Kay Scarpetta, #7)"
                                },
                                {
                                    "0": "1996",
                                    "1": "Last Orders"
                                },
                                {
                                    "0": "1996",
                                    "1": "Lucy Sullivan Is Getting Married"
                                },
                                {
                                    "0": "1996",
                                    "1": "Sex and the City"
                                },
                                {
                                    "0": "1996",
                                    "1": "We Were the Mulvaneys"
                                },
                                {
                                    "0": "1997",
                                    "1": "Here on Earth"
                                },
                                {
                                    "0": "1997",
                                    "1": "Rachel's Holiday (Walsh Family, #2)"
                                },
                                {
                                    "0": "1997",
                                    "1": "Rose Daughter"
                                },
                                {
                                    "0": "1998",
                                    "1": "About a Boy"
                                },
                                {
                                    "0": "1998",
                                    "1": "Amsterdam"
                                },
                                {
                                    "0": "1998",
                                    "1": "Girlfriend in a Coma"
                                },
                                {
                                    "0": "1998",
                                    "1": "Glamorama"
                                },
                                {
                                    "0": "1998",
                                    "1": "I'm a Stranger Here Myself: Notes on Returning to America after Twenty Years Away"
                                },
                                {
                                    "0": "1998",
                                    "1": "Marlfox (Redwall, #11)"
                                },
                                {
                                    "0": "1998",
                                    "1": "Men Are from Mars, Women Are from Venus"
                                },
                                {
                                    "0": "1998",
                                    "1": "Message in a Bottle"
                                },
                                {
                                    "0": "1998",
                                    "1": "The No. 1 Ladies' Detective Agency  (No. 1 Ladies' Detective Agency, #1)"
                                },
                                {
                                    "0": "1998",
                                    "1": "The Street Lawyer"
                                },
                                {
                                    "0": "1998",
                                    "1": "Who Moved My Cheese?"
                                },
                                {
                                    "0": "1999",
                                    "1": "Bagombo Snuff Box"
                                },
                                {
                                    "0": "1999",
                                    "1": "Girl with a Pearl Earring"
                                },
                                {
                                    "0": "1999",
                                    "1": "Last Chance Saloon"
                                },
                                {
                                    "0": "1999",
                                    "1": "Sputnik Sweetheart"
                                },
                                {
                                    "0": "1999",
                                    "1": "The Legend of Luke (Redwall, #12)"
                                },
                                {
                                    "0": "1999",
                                    "1": "Timeline"
                                },
                                {
                                    "0": "2000",
                                    "1": "A Heartbreaking Work of Staggering Genius"
                                },
                                {
                                    "0": "2000",
                                    "1": "Angels & Demons  (Robert Langdon, #1)"
                                },
                                {
                                    "0": "2000",
                                    "1": "Code to Zero"
                                },
                                {
                                    "0": "2000",
                                    "1": "Dreamland"
                                },
                                {
                                    "0": "2000",
                                    "1": "Drowning Ruth"
                                },
                                {
                                    "0": "2000",
                                    "1": "Four Blondes"
                                },
                                {
                                    "0": "2000",
                                    "1": "Shadow of the Hegemon (Ender's Shadow, #2)"
                                },
                                {
                                    "0": "2000",
                                    "1": "Tears of the Giraffe (No. 1 Ladies' Detective Agency, #2)"
                                },
                                {
                                    "0": "2000",
                                    "1": "The Brethren"
                                },
                                {
                                    "0": "2001",
                                    "1": "A Painted House"
                                },
                                {
                                    "0": "2001",
                                    "1": "Atonement"
                                },
                                {
                                    "0": "2001",
                                    "1": "Deception Point"
                                },
                                {
                                    "0": "2001",
                                    "1": "Falling Angels"
                                },
                                {
                                    "0": "2001",
                                    "1": "Morality for Beautiful Girls (No. 1 Ladies' Detective Agency, #3)"
                                },
                                {
                                    "0": "2001",
                                    "1": "Nickel and Dimed: On (Not) Getting By in America"
                                },
                                {
                                    "0": "2001",
                                    "1": "number9dream"
                                },
                                {
                                    "0": "2001",
                                    "1": "Them: Adventures with Extremists"
                                },
                                {
                                    "0": "2002",
                                    "1": "Holy Cow: An Indian Adventure"
                                },
                                {
                                    "0": "2002",
                                    "1": "The Autograph Man"
                                },
                                {
                                    "0": "2002",
                                    "1": "The Beach House"
                                },
                                {
                                    "0": "2002",
                                    "1": "The Bookseller of Kabul"
                                },
                                {
                                    "0": "2002",
                                    "1": "The Salmon of Doubt (Dirk Gently, #3)"
                                },
                                {
                                    "0": "2002",
                                    "1": "The Summons"
                                },
                                {
                                    "0": "2003",
                                    "1": "Bleachers"
                                },
                                {
                                    "0": "2003",
                                    "1": "Hey Nostradamus!"
                                },
                                {
                                    "0": "2003",
                                    "1": "Sickened: The Memoir of a Munchausen by Proxy Childhood"
                                },
                                {
                                    "0": "2003",
                                    "1": "Songbook"
                                },
                                {
                                    "0": "2003",
                                    "1": "The Amber Room"
                                },
                                {
                                    "0": "2003",
                                    "1": "The Curious Incident of the Dog in the Night-Time"
                                },
                                {
                                    "0": "2003",
                                    "1": "The King of Torts"
                                },
                                {
                                    "0": "2003",
                                    "1": "The Second Summer of the Sisterhood (Sisterhood, #2)"
                                },
                                {
                                    "0": "2003",
                                    "1": "Villa Incognito"
                                },
                                {
                                    "0": "2004",
                                    "1": "Blue Ocean Strategy: How To Create Uncontested Market Space And Make The Competition Irrelevant"
                                },
                                {
                                    "0": "2004",
                                    "1": "Confessions of an Economic Hit Man"
                                },
                                {
                                    "0": "2004",
                                    "1": "His Excellency: George Washington"
                                },
                                {
                                    "0": "2004",
                                    "1": "Maximum City: Bombay Lost and Found"
                                },
                                {
                                    "0": "2004",
                                    "1": "Memories of My Melancholy Whores"
                                },
                                {
                                    "0": "2004",
                                    "1": "Shopaholic and Sister (Shopaholic, #4)"
                                },
                                {
                                    "0": "2004",
                                    "1": "Song of Susannah (The Dark Tower, #6)"
                                },
                                {
                                    "0": "2004",
                                    "1": "The Last Juror"
                                },
                                {
                                    "0": "2005",
                                    "1": "Assassination Vacation"
                                },
                                {
                                    "0": "2005",
                                    "1": "Everyday Italian: 125 Simple and Delicious Recipes"
                                },
                                {
                                    "0": "2005",
                                    "1": "Lipstick Jungle"
                                },
                                {
                                    "0": "2005",
                                    "1": "Olympos (Ilium, #2)"
                                },
                                {
                                    "0": "2005",
                                    "1": "On Beauty"
                                },
                                {
                                    "0": "2005",
                                    "1": "Saturday"
                                },
                                {
                                    "0": "2005",
                                    "1": "Shadow of the Giant (Ender's Shadow, #4)"
                                },
                                {
                                    "0": "2005",
                                    "1": "The Brooklyn Follies"
                                },
                                {
                                    "0": "2005",
                                    "1": "The Game: Penetrating the Secret Society of Pickup Artists"
                                },
                                {
                                    "0": "2006",
                                    "1": "I Hope They Serve Beer in Hell (Tucker Max, #1)"
                                },
                                {
                                    "0": "2006",
                                    "1": "Motor Mouth (Alex Barnaby #2)"
                                },
                                {
                                    "0": "2006",
                                    "1": "Next"
                                },
                                {
                                    "0": "2006",
                                    "1": "Special Topics in Calamity Physics"
                                },
                                {
                                    "0": "2006",
                                    "1": "The Android's Dream"
                                },
                                {
                                    "0": "2006",
                                    "1": "The Emperor's Children"
                                },
                                {
                                    "0": "2007",
                                    "1": "Forever in Blue: The Fourth Summer of the Sisterhood (Sisterhood, #4)"
                                },
                                {
                                    "0": "2007",
                                    "1": "Plum Lovin' (Stephanie Plum, #12.5)"
                                },
                                {
                                    "0": "2007",
                                    "1": "Shopaholic & Baby (Shopaholic, #5)"
                                },
                                {
                                    "0": "2009",
                                    "1": "Execution: The Discipline of Getting Things Done"
                                }
                            ]
                        },
                        "text/html": [
                            "<table>",
                            "<tr><th>original_publication_year</th><th>title</th></tr>",
                            "<tr><td>-750</td><td>The Iliad</td></tr>",
                            "<tr><td>-458</td><td>The Oresteia  (Ορέστεια, #1-3)</td></tr>",
                            "<tr><td>-441</td><td>Antigone (The Theban Plays, #3)</td></tr>",
                            "<tr><td>-430</td><td>Oedipus Rex  (The Theban Plays, #1)</td></tr>",
                            "<tr><td>-411</td><td>Lysistrata</td></tr>",
                            "<tr><td>1390</td><td>The Canterbury Tales</td></tr>",
                            "<tr><td>1605</td><td>Don Quixote</td></tr>",
                            "<tr><td>1606</td><td>Macbeth</td></tr>",
                            "<tr><td>1726</td><td>Gulliver's Travels</td></tr>",
                            "<tr><td>1847</td><td>Wuthering Heights</td></tr>",
                            "<tr><td>1848</td><td>La Dame aux Camélias</td></tr>",
                            "<tr><td>1854</td><td>Hard Times</td></tr>",
                            "<tr><td>1856</td><td>Madame Bovary</td></tr>",
                            "<tr><td>1860</td><td>Great Expectations</td></tr>",
                            "<tr><td>1880</td><td>Heidi</td></tr>",
                            "<tr><td>1882</td><td>Treasure Island</td></tr>",
                            "<tr><td>1884</td><td>The Adventures of Huckleberry Finn</td></tr>",
                            "<tr><td>1889</td><td>Three Men in a Boat (Three Men, #1)</td></tr>",
                            "<tr><td>1895</td><td>The Time Machine</td></tr>",
                            "<tr><td>1897</td><td>The War of the Worlds</td></tr>",
                            "<tr><td>1908</td><td>The Wind in the Willows</td></tr>",
                            "<tr><td>1912</td><td>Pygmalion</td></tr>",
                            "<tr><td>1912</td><td>The Broken Wings</td></tr>",
                            "<tr><td>1920</td><td>Women in Love (Brangwen Family, #2)</td></tr>",
                            "<tr><td>1922</td><td>The Beautiful and Damned</td></tr>",
                            "<tr><td>1932</td><td>Brave New World</td></tr>",
                            "<tr><td>1933</td><td>Lost Horizon</td></tr>",
                            "<tr><td>1933</td><td>The Red Pony</td></tr>",
                            "<tr><td>1934</td><td>Burmese Days</td></tr>",
                            "<tr><td>1937</td><td>Of Mice and Men</td></tr>",
                            "<tr><td>1938</td><td>Tropic of Capricorn</td></tr>",
                            "<tr><td>1940</td><td>The Power and the Glory</td></tr>",
                            "<tr><td>1945</td><td>Animal Farm</td></tr>",
                            "<tr><td>1948</td><td>The Heart of the Matter</td></tr>",
                            "<tr><td>1952</td><td>Player Piano</td></tr>",
                            "<tr><td>1953</td><td>Fahrenheit 451</td></tr>",
                            "<tr><td>1953</td><td>The First Four Years  (Little House, #9)</td></tr>",
                            "<tr><td>1955</td><td>The Quiet American</td></tr>",
                            "<tr><td>1957</td><td>Atlas Shrugged</td></tr>",
                            "<tr><td>1958</td><td>Brave New World Revisited </td></tr>",
                            "<tr><td>1959</td><td>Goldfinger (James Bond, #7)</td></tr>",
                            "<tr><td>1961</td><td>A House for Mr Biswas</td></tr>",
                            "<tr><td>1961</td><td>Franny and Zooey</td></tr>",
                            "<tr><td>1961</td><td>James and the Giant Peach</td></tr>",
                            "<tr><td>1961</td><td>The Virtue of Selfishness: A New Concept of Egoism</td></tr>",
                            "<tr><td>1961</td><td>The Winter of Our Discontent</td></tr>",
                            "<tr><td>1962</td><td>The Woman in the Dunes</td></tr>",
                            "<tr><td>1963</td><td>The Bell Jar</td></tr>",
                            "<tr><td>1966</td><td>The Crying of Lot 49</td></tr>",
                            "<tr><td>1971</td><td>Another Roadside Attraction</td></tr>",
                            "<tr><td>1972</td><td>The Terminal Man</td></tr>",
                            "<tr><td>1974</td><td>The 158-Pound Marriage</td></tr>",
                            "<tr><td>1975</td><td>A History of God: The 4,000-Year Quest of Judaism, Christianity, and Islam</td></tr>",
                            "<tr><td>1976</td><td>Children of Dune (Dune Chronicles #3)</td></tr>",
                            "<tr><td>1980</td><td>Congo</td></tr>",
                            "<tr><td>1982</td><td>Deadeye Dick</td></tr>",
                            "<tr><td>1983</td><td>Life and Times of Michael K</td></tr>",
                            "<tr><td>1984</td><td>Heretics of Dune (Dune Chronicles #5)</td></tr>",
                            "<tr><td>1985</td><td>City of Glass (The New York Trilogy, #1)</td></tr>",
                            "<tr><td>1985</td><td>Love in the Time of Cholera</td></tr>",
                            "<tr><td>1986</td><td>Hatchet (Brian's Saga, #1)</td></tr>",
                            "<tr><td>1987</td><td>Beloved</td></tr>",
                            "<tr><td>1987</td><td>Dirk Gently's Holistic Detective Agency (Dirk Gently #1)</td></tr>",
                            "<tr><td>1987</td><td>In the Skin of a Lion</td></tr>",
                            "<tr><td>1987</td><td>The Pilgrimage</td></tr>",
                            "<tr><td>1987</td><td>The Rules of Attraction</td></tr>",
                            "<tr><td>1988</td><td>The Book of Ruth</td></tr>",
                            "<tr><td>1988</td><td>The Valkyries</td></tr>",
                            "<tr><td>1989</td><td>What to Expect the First Year (What to Expect)</td></tr>",
                            "<tr><td>1990</td><td>Hocus Pocus</td></tr>",
                            "<tr><td>1990</td><td>Jurassic Park (Jurassic Park, #1)</td></tr>",
                            "<tr><td>1990</td><td>The Mother Tongue: English and How It Got That Way</td></tr>",
                            "<tr><td>1991</td><td>Generation X: Tales for an Accelerated Culture</td></tr>",
                            "<tr><td>1991</td><td>Jewel</td></tr>",
                            "<tr><td>1991</td><td>Mariel of Redwall (Redwall, #4)</td></tr>",
                            "<tr><td>1991</td><td>Neither Here nor There: Travels in Europe</td></tr>",
                            "<tr><td>1991</td><td>Night Over Water</td></tr>",
                            "<tr><td>1991</td><td>Xenocide (Ender's Saga, #3)</td></tr>",
                            "<tr><td>1992</td><td>A Map of the World</td></tr>",
                            "<tr><td>1992</td><td>Leviathan</td></tr>",
                            "<tr><td>1992</td><td>Little Altars Everywhere</td></tr>",
                            "<tr><td>1992</td><td>Prophet</td></tr>",
                            "<tr><td>1993</td><td>Deerskin</td></tr>",
                            "<tr><td>1993</td><td>The Client</td></tr>",
                            "<tr><td>1994</td><td>A Son of the Circus</td></tr>",
                            "<tr><td>1994</td><td>Built to Last: Successful Habits of Visionary Companies</td></tr>",
                            "<tr><td>1994</td><td>In the Lake of the Woods</td></tr>",
                            "<tr><td>1994</td><td>The Bellmaker (Redwall, #7)</td></tr>",
                            "<tr><td>1995</td><td>Longitude: The True Story of a Lone Genius Who Solved the Greatest Scientific Problem of His Time</td></tr>",
                            "<tr><td>1995</td><td>Reservation Blues</td></tr>",
                            "<tr><td>1995</td><td>Songs in Ordinary Time</td></tr>",
                            "<tr><td>1995</td><td>The Lost World (Jurassic Park, #2)</td></tr>",
                            "<tr><td>1995</td><td>The Moor's Last Sigh</td></tr>",
                            "<tr><td>1995</td><td>The Rapture of Canaan</td></tr>",
                            "<tr><td>1996</td><td>Cause of Death (Kay Scarpetta, #7)</td></tr>",
                            "<tr><td>1996</td><td>Last Orders</td></tr>",
                            "<tr><td>1996</td><td>Lucy Sullivan Is Getting Married</td></tr>",
                            "<tr><td>1996</td><td>Sex and the City</td></tr>",
                            "<tr><td>1996</td><td>We Were the Mulvaneys</td></tr>",
                            "<tr><td>1997</td><td>Here on Earth</td></tr>",
                            "<tr><td>1997</td><td>Rachel's Holiday (Walsh Family, #2)</td></tr>",
                            "<tr><td>1997</td><td>Rose Daughter</td></tr>",
                            "<tr><td>1998</td><td>About a Boy</td></tr>",
                            "<tr><td>1998</td><td>Amsterdam</td></tr>",
                            "<tr><td>1998</td><td>Girlfriend in a Coma</td></tr>",
                            "<tr><td>1998</td><td>Glamorama</td></tr>",
                            "<tr><td>1998</td><td>I'm a Stranger Here Myself: Notes on Returning to America after Twenty Years Away</td></tr>",
                            "<tr><td>1998</td><td>Marlfox (Redwall, #11)</td></tr>",
                            "<tr><td>1998</td><td>Men Are from Mars, Women Are from Venus</td></tr>",
                            "<tr><td>1998</td><td>Message in a Bottle</td></tr>",
                            "<tr><td>1998</td><td>The No. 1 Ladies' Detective Agency  (No. 1 Ladies' Detective Agency, #1)</td></tr>",
                            "<tr><td>1998</td><td>The Street Lawyer</td></tr>",
                            "<tr><td>1998</td><td>Who Moved My Cheese?</td></tr>",
                            "<tr><td>1999</td><td>Bagombo Snuff Box</td></tr>",
                            "<tr><td>1999</td><td>Girl with a Pearl Earring</td></tr>",
                            "<tr><td>1999</td><td>Last Chance Saloon</td></tr>",
                            "<tr><td>1999</td><td>Sputnik Sweetheart</td></tr>",
                            "<tr><td>1999</td><td>The Legend of Luke (Redwall, #12)</td></tr>",
                            "<tr><td>1999</td><td>Timeline</td></tr>",
                            "<tr><td>2000</td><td>A Heartbreaking Work of Staggering Genius</td></tr>",
                            "<tr><td>2000</td><td>Angels &amp; Demons  (Robert Langdon, #1)</td></tr>",
                            "<tr><td>2000</td><td>Code to Zero</td></tr>",
                            "<tr><td>2000</td><td>Dreamland</td></tr>",
                            "<tr><td>2000</td><td>Drowning Ruth</td></tr>",
                            "<tr><td>2000</td><td>Four Blondes</td></tr>",
                            "<tr><td>2000</td><td>Shadow of the Hegemon (Ender's Shadow, #2)</td></tr>",
                            "<tr><td>2000</td><td>Tears of the Giraffe (No. 1 Ladies' Detective Agency, #2)</td></tr>",
                            "<tr><td>2000</td><td>The Brethren</td></tr>",
                            "<tr><td>2001</td><td>A Painted House</td></tr>",
                            "<tr><td>2001</td><td>Atonement</td></tr>",
                            "<tr><td>2001</td><td>Deception Point</td></tr>",
                            "<tr><td>2001</td><td>Falling Angels</td></tr>",
                            "<tr><td>2001</td><td>Morality for Beautiful Girls (No. 1 Ladies' Detective Agency, #3)</td></tr>",
                            "<tr><td>2001</td><td>Nickel and Dimed: On (Not) Getting By in America</td></tr>",
                            "<tr><td>2001</td><td>number9dream</td></tr>",
                            "<tr><td>2001</td><td>Them: Adventures with Extremists</td></tr>",
                            "<tr><td>2002</td><td>Holy Cow: An Indian Adventure</td></tr>",
                            "<tr><td>2002</td><td>The Autograph Man</td></tr>",
                            "<tr><td>2002</td><td>The Beach House</td></tr>",
                            "<tr><td>2002</td><td>The Bookseller of Kabul</td></tr>",
                            "<tr><td>2002</td><td>The Salmon of Doubt (Dirk Gently, #3)</td></tr>",
                            "<tr><td>2002</td><td>The Summons</td></tr>",
                            "<tr><td>2003</td><td>Bleachers</td></tr>",
                            "<tr><td>2003</td><td>Hey Nostradamus!</td></tr>",
                            "<tr><td>2003</td><td>Sickened: The Memoir of a Munchausen by Proxy Childhood</td></tr>",
                            "<tr><td>2003</td><td>Songbook</td></tr>",
                            "<tr><td>2003</td><td>The Amber Room</td></tr>",
                            "<tr><td>2003</td><td>The Curious Incident of the Dog in the Night-Time</td></tr>",
                            "<tr><td>2003</td><td>The King of Torts</td></tr>",
                            "<tr><td>2003</td><td>The Second Summer of the Sisterhood (Sisterhood, #2)</td></tr>",
                            "<tr><td>2003</td><td>Villa Incognito</td></tr>",
                            "<tr><td>2004</td><td>Blue Ocean Strategy: How To Create Uncontested Market Space And Make The Competition Irrelevant</td></tr>",
                            "<tr><td>2004</td><td>Confessions of an Economic Hit Man</td></tr>",
                            "<tr><td>2004</td><td>His Excellency: George Washington</td></tr>",
                            "<tr><td>2004</td><td>Maximum City: Bombay Lost and Found</td></tr>",
                            "<tr><td>2004</td><td>Memories of My Melancholy Whores</td></tr>",
                            "<tr><td>2004</td><td>Shopaholic and Sister (Shopaholic, #4)</td></tr>",
                            "<tr><td>2004</td><td>Song of Susannah (The Dark Tower, #6)</td></tr>",
                            "<tr><td>2004</td><td>The Last Juror</td></tr>",
                            "<tr><td>2005</td><td>Assassination Vacation</td></tr>",
                            "<tr><td>2005</td><td>Everyday Italian: 125 Simple and Delicious Recipes</td></tr>",
                            "<tr><td>2005</td><td>Lipstick Jungle</td></tr>",
                            "<tr><td>2005</td><td>Olympos (Ilium, #2)</td></tr>",
                            "<tr><td>2005</td><td>On Beauty</td></tr>",
                            "<tr><td>2005</td><td>Saturday</td></tr>",
                            "<tr><td>2005</td><td>Shadow of the Giant (Ender's Shadow, #4)</td></tr>",
                            "<tr><td>2005</td><td>The Brooklyn Follies</td></tr>",
                            "<tr><td>2005</td><td>The Game: Penetrating the Secret Society of Pickup Artists</td></tr>",
                            "<tr><td>2006</td><td>I Hope They Serve Beer in Hell (Tucker Max, #1)</td></tr>",
                            "<tr><td>2006</td><td>Motor Mouth (Alex Barnaby #2)</td></tr>",
                            "<tr><td>2006</td><td>Next</td></tr>",
                            "<tr><td>2006</td><td>Special Topics in Calamity Physics</td></tr>",
                            "<tr><td>2006</td><td>The Android's Dream</td></tr>",
                            "<tr><td>2006</td><td>The Emperor's Children</td></tr>",
                            "<tr><td>2007</td><td>Forever in Blue: The Fourth Summer of the Sisterhood (Sisterhood, #4)</td></tr>",
                            "<tr><td>2007</td><td>Plum Lovin' (Stephanie Plum, #12.5)</td></tr>",
                            "<tr><td>2007</td><td>Shopaholic &amp; Baby (Shopaholic, #5)</td></tr>",
                            "<tr><td>2009</td><td>Execution: The Discipline of Getting Things Done</td></tr>",
                            "</table>"
                        ]
                    }
                }
            ],
            "execution_count": 21
        }
    ]
}